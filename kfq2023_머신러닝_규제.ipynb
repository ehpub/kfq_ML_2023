{
  "nbformat": 4,
  "nbformat_minor": 0,
  "metadata": {
    "colab": {
      "provenance": [],
      "mount_file_id": "1Di09Ql4JW58_1VeQ15KrjXweEFQRyTad",
      "authorship_tag": "ABX9TyOY31+lN6nlq+ZUQKZ78qma",
      "include_colab_link": true
    },
    "kernelspec": {
      "name": "python3",
      "display_name": "Python 3"
    },
    "language_info": {
      "name": "python"
    }
  },
  "cells": [
    {
      "cell_type": "markdown",
      "metadata": {
        "id": "view-in-github",
        "colab_type": "text"
      },
      "source": [
        "<a href=\"https://colab.research.google.com/github/ehpub/kfq_ML_2023/blob/main/kfq2023_%EB%A8%B8%EC%8B%A0%EB%9F%AC%EB%8B%9D_%EA%B7%9C%EC%A0%9C.ipynb\" target=\"_parent\"><img src=\"https://colab.research.google.com/assets/colab-badge.svg\" alt=\"Open In Colab\"/></a>"
      ]
    },
    {
      "cell_type": "code",
      "execution_count": 42,
      "metadata": {
        "id": "q8M6q6HxvUMb"
      },
      "outputs": [],
      "source": [
        "from sklearn.linear_model import Ridge\n",
        "import pandas as pd\n",
        "import numpy as np\n",
        "import matplotlib.pyplot as plt"
      ]
    },
    {
      "cell_type": "code",
      "source": [
        "path = '/content/drive/MyDrive/mldata/Boston_house.csv'"
      ],
      "metadata": {
        "id": "8ZoV1zSi_jJ9"
      },
      "execution_count": 43,
      "outputs": []
    },
    {
      "cell_type": "code",
      "source": [
        "df = pd.read_csv(path)\n",
        "data = df.drop('Target',axis=1)\n",
        "label = df['Target']"
      ],
      "metadata": {
        "id": "jbla1JOj_vtB"
      },
      "execution_count": 44,
      "outputs": []
    },
    {
      "cell_type": "code",
      "source": [
        "from sklearn.model_selection import train_test_split"
      ],
      "metadata": {
        "id": "fwOn8WOc_ypX"
      },
      "execution_count": 45,
      "outputs": []
    },
    {
      "cell_type": "code",
      "source": [
        "x_train,x_test,y_train,y_test = train_test_split(data,label)"
      ],
      "metadata": {
        "id": "fHMomvb5AheP"
      },
      "execution_count": 46,
      "outputs": []
    },
    {
      "cell_type": "code",
      "source": [
        "from sklearn.model_selection import cross_val_score"
      ],
      "metadata": {
        "id": "FWbpRpTsA27q"
      },
      "execution_count": 47,
      "outputs": []
    },
    {
      "cell_type": "code",
      "source": [
        "ridge = Ridge()\n",
        "ns = cross_val_score(ridge,data,label,scoring='neg_mean_squared_error',cv=5)\n",
        "rmse = np.sqrt(-1 * ns)\n",
        "rmse.mean()"
      ],
      "metadata": {
        "colab": {
          "base_uri": "https://localhost:8080/"
        },
        "id": "43KqN1qGAoyn",
        "outputId": "2e963fb0-8979-4302-e47d-438206d29684"
      },
      "execution_count": 48,
      "outputs": [
        {
          "output_type": "execute_result",
          "data": {
            "text/plain": [
              "5.6525709656135446"
            ]
          },
          "metadata": {},
          "execution_count": 48
        }
      ]
    },
    {
      "cell_type": "code",
      "source": [
        "ridge = Ridge(alpha=10)\n",
        "ns = cross_val_score(ridge,data,label,scoring='neg_mean_squared_error',cv=5)\n",
        "rmse = np.sqrt(-1 * ns)\n",
        "rmse.mean()"
      ],
      "metadata": {
        "colab": {
          "base_uri": "https://localhost:8080/"
        },
        "id": "RZrwvMp3B2zc",
        "outputId": "0e194d16-c98e-48ff-952f-d2ce3a269249"
      },
      "execution_count": 49,
      "outputs": [
        {
          "output_type": "execute_result",
          "data": {
            "text/plain": [
              "5.518166280868967"
            ]
          },
          "metadata": {},
          "execution_count": 49
        }
      ]
    },
    {
      "cell_type": "code",
      "source": [
        "alphas = [0.0001,0.01,0.1,1,2,5,10]\n",
        "for alpha in alphas:\n",
        "  ridge = Ridge(alpha=alpha)\n",
        "  ridge.fit(x_train,y_train)\n",
        "  print(f'{alpha:7.4f}: {ridge.score(x_test,y_test)}')"
      ],
      "metadata": {
        "colab": {
          "base_uri": "https://localhost:8080/"
        },
        "id": "q_3d_82wCh-d",
        "outputId": "288db9e9-ac5a-4138-aafe-4cbaee474ced"
      },
      "execution_count": 50,
      "outputs": [
        {
          "output_type": "stream",
          "name": "stdout",
          "text": [
            " 0.0001: 0.7533570828889067\n",
            " 0.0100: 0.7533939733856243\n",
            " 0.1000: 0.753632643177108\n",
            " 1.0000: 0.7529069080214765\n",
            " 2.0000: 0.7516871312643697\n",
            " 5.0000: 0.7501188264274307\n",
            "10.0000: 0.7491224181001079\n"
          ]
        }
      ]
    },
    {
      "cell_type": "code",
      "source": [
        "from sklearn.model_selection import GridSearchCV"
      ],
      "metadata": {
        "id": "H2xZcKb0DANp"
      },
      "execution_count": 51,
      "outputs": []
    },
    {
      "cell_type": "code",
      "source": [
        "params = {\n",
        "    'alpha':[0.0001,0.01,0.1,1,2,5,10]\n",
        "}"
      ],
      "metadata": {
        "id": "-NbV6f2fDb3E"
      },
      "execution_count": 52,
      "outputs": []
    },
    {
      "cell_type": "code",
      "source": [
        "ridge = Ridge()\n",
        "gs = GridSearchCV(ridge,param_grid=params)\n",
        "gs.fit(x_train,y_train)\n",
        "print(gs.best_params_)"
      ],
      "metadata": {
        "colab": {
          "base_uri": "https://localhost:8080/"
        },
        "id": "6FGew1NBDhXK",
        "outputId": "ebad5234-6266-44d1-c968-76f3e155297f"
      },
      "execution_count": 53,
      "outputs": [
        {
          "output_type": "stream",
          "name": "stdout",
          "text": [
            "{'alpha': 0.1}\n"
          ]
        }
      ]
    },
    {
      "cell_type": "code",
      "source": [
        "ridge = Ridge(alpha=0.1)\n",
        "ridge.fit(x_train,y_train)\n",
        "pred = ridge.predict(x_test)\n",
        "ridge.score(x_test,y_test)"
      ],
      "metadata": {
        "colab": {
          "base_uri": "https://localhost:8080/"
        },
        "id": "Gg8ZWk9kEDFm",
        "outputId": "0bbb4b54-1b12-42af-f98e-3a3860da9fad"
      },
      "execution_count": 54,
      "outputs": [
        {
          "output_type": "execute_result",
          "data": {
            "text/plain": [
              "0.753632643177108"
            ]
          },
          "metadata": {},
          "execution_count": 54
        }
      ]
    },
    {
      "cell_type": "code",
      "source": [
        "dir(ridge)"
      ],
      "metadata": {
        "colab": {
          "base_uri": "https://localhost:8080/"
        },
        "id": "-yMlY3odIFUN",
        "outputId": "293dff92-82f7-4520-d398-3983ed204b2e"
      },
      "execution_count": 55,
      "outputs": [
        {
          "output_type": "execute_result",
          "data": {
            "text/plain": [
              "['__abstractmethods__',\n",
              " '__annotations__',\n",
              " '__class__',\n",
              " '__delattr__',\n",
              " '__dict__',\n",
              " '__dir__',\n",
              " '__doc__',\n",
              " '__eq__',\n",
              " '__format__',\n",
              " '__ge__',\n",
              " '__getattribute__',\n",
              " '__getstate__',\n",
              " '__gt__',\n",
              " '__hash__',\n",
              " '__init__',\n",
              " '__init_subclass__',\n",
              " '__le__',\n",
              " '__lt__',\n",
              " '__module__',\n",
              " '__ne__',\n",
              " '__new__',\n",
              " '__reduce__',\n",
              " '__reduce_ex__',\n",
              " '__repr__',\n",
              " '__setattr__',\n",
              " '__setstate__',\n",
              " '__sizeof__',\n",
              " '__str__',\n",
              " '__subclasshook__',\n",
              " '__weakref__',\n",
              " '_abc_impl',\n",
              " '_check_feature_names',\n",
              " '_check_n_features',\n",
              " '_decision_function',\n",
              " '_estimator_type',\n",
              " '_get_param_names',\n",
              " '_get_tags',\n",
              " '_more_tags',\n",
              " '_parameter_constraints',\n",
              " '_repr_html_',\n",
              " '_repr_html_inner',\n",
              " '_repr_mimebundle_',\n",
              " '_set_intercept',\n",
              " '_validate_data',\n",
              " '_validate_params',\n",
              " 'alpha',\n",
              " 'coef_',\n",
              " 'copy_X',\n",
              " 'feature_names_in_',\n",
              " 'fit',\n",
              " 'fit_intercept',\n",
              " 'get_params',\n",
              " 'intercept_',\n",
              " 'max_iter',\n",
              " 'n_features_in_',\n",
              " 'n_iter_',\n",
              " 'positive',\n",
              " 'predict',\n",
              " 'random_state',\n",
              " 'score',\n",
              " 'set_params',\n",
              " 'solver',\n",
              " 'tol']"
            ]
          },
          "metadata": {},
          "execution_count": 55
        }
      ]
    },
    {
      "cell_type": "code",
      "source": [
        "model = gs.best_estimator_\n",
        "pred = model.predict(x_test)\n",
        "model.score(x_test,y_test)"
      ],
      "metadata": {
        "colab": {
          "base_uri": "https://localhost:8080/"
        },
        "id": "FJ35UDAoEe0X",
        "outputId": "1eb0f6f8-1b4f-4b5a-d9a1-39e583a418b9"
      },
      "execution_count": 56,
      "outputs": [
        {
          "output_type": "execute_result",
          "data": {
            "text/plain": [
              "0.753632643177108"
            ]
          },
          "metadata": {},
          "execution_count": 56
        }
      ]
    },
    {
      "cell_type": "code",
      "source": [
        "alphas = [0.0001,0.01,0.1,1,2,5,10]\n",
        "for alpha in alphas:\n",
        "  ridge = Ridge(alpha=alpha)\n",
        "  sc = cross_val_score(ridge,x_train,y_train,cv=5)\n",
        "  print(f'{alpha:7.4f}',np.mean(sc))"
      ],
      "metadata": {
        "colab": {
          "base_uri": "https://localhost:8080/"
        },
        "id": "qxAUiV5AEoaB",
        "outputId": "e0ab6a87-4a99-4a2d-8339-da62db792783"
      },
      "execution_count": 57,
      "outputs": [
        {
          "output_type": "stream",
          "name": "stdout",
          "text": [
            " 0.0001 0.6885172518715865\n",
            " 0.0100 0.6886275530000738\n",
            " 0.1000 0.6893607515896678\n",
            " 1.0000 0.6888611569200476\n",
            " 2.0000 0.68699254252234\n",
            " 5.0000 0.6841910583208699\n",
            "10.0000 0.6821508069007092\n"
          ]
        }
      ]
    },
    {
      "cell_type": "code",
      "source": [
        "from sklearn.preprocessing import StandardScaler"
      ],
      "metadata": {
        "id": "sBN0pDfrJJgn"
      },
      "execution_count": 58,
      "outputs": []
    },
    {
      "cell_type": "code",
      "source": [
        "ss = StandardScaler()\n",
        "ss.fit(data)\n",
        "sd = ss.transform(data)\n",
        "x_train,x_test,y_train,y_test = train_test_split(sd,label)"
      ],
      "metadata": {
        "id": "Pw1YvJ3WJRsi"
      },
      "execution_count": 59,
      "outputs": []
    },
    {
      "cell_type": "code",
      "source": [
        "import seaborn as sns\n",
        "alphas = [0,0.0001,0.01,0.1,1,2,5,10]\n",
        "rdf = pd.DataFrame()\n",
        "_,axs = plt.subplots(nrows=2,ncols=4,figsize=(15,8))\n",
        "for i,alpha in enumerate(alphas):\n",
        "  nr = int(i/4)\n",
        "  nc = i%4\n",
        "  ridge = Ridge(alpha=alpha)\n",
        "  ridge.fit(x_train,y_train)\n",
        "  cs = pd.Series(ridge.coef_,index=data.columns)\n",
        "  rdf[str(alpha)] = cs\n",
        "  sns.barplot(x=cs.values,y=cs.index,ax=axs[nr][nc])\n",
        "  axs[nr][nc].set_title(str(alpha))\n",
        "plt.show()"
      ],
      "metadata": {
        "colab": {
          "base_uri": "https://localhost:8080/",
          "height": 417
        },
        "id": "5RiVm5-SF8VW",
        "outputId": "5ef505b1-abf2-43fb-b17a-06cd05ed53d0"
      },
      "execution_count": 60,
      "outputs": [
        {
          "output_type": "display_data",
          "data": {
            "text/plain": [
              "<Figure size 1500x800 with 8 Axes>"
            ],
            "image/png": "[encoded data removed]"
          },
          "metadata": {}
        }
      ]
    },
    {
      "cell_type": "code",
      "source": [
        "from sklearn.linear_model import Lasso,ElasticNet"
      ],
      "metadata": {
        "id": "k84FYW1PgEhS"
      },
      "execution_count": 63,
      "outputs": []
    },
    {
      "cell_type": "code",
      "source": [
        "alphas = [0.0001,0.01,0.1,1,2,5,10]\n",
        "\n",
        "for alpha in alphas:\n",
        "  model = Ridge(alpha=alpha)\n",
        "  sc = cross_val_score(model,x_train,y_train,cv=5)\n",
        "  print(f'{alpha:7.4f}',np.mean(sc))\n",
        "print(\"\\n===================\")\n",
        "for alpha in alphas:\n",
        "  model = Lasso(alpha=alpha)\n",
        "  sc = cross_val_score(model,x_train,y_train,cv=5)\n",
        "  print(f'{alpha:7.4f}',np.mean(sc))\n",
        "print(\"\\n===================\")\n",
        "for alpha in alphas:\n",
        "  model = ElasticNet(alpha=alpha)\n",
        "  sc = cross_val_score(model,x_train,y_train,cv=5)\n",
        "  print(f'{alpha:7.4f}',np.mean(sc))"
      ],
      "metadata": {
        "colab": {
          "base_uri": "https://localhost:8080/"
        },
        "id": "wUp2wODdG6RP",
        "outputId": "b2e65a4b-0c2c-4a1c-e0bc-12761889e45f"
      },
      "execution_count": 64,
      "outputs": [
        {
          "output_type": "stream",
          "name": "stdout",
          "text": [
            " 0.0001 0.6956333425651968\n",
            " 0.0100 0.6956394206205995\n",
            " 0.1000 0.6956940755759057\n",
            " 1.0000 0.6961853436570309\n",
            " 2.0000 0.6966288266716153\n",
            " 5.0000 0.6974890669294034\n",
            "10.0000 0.6979742556995671\n",
            "\n",
            "===================\n",
            " 0.0001 0.6956381848364047\n",
            " 0.0100 0.6962163612699859\n",
            " 0.1000 0.6951133147363017\n",
            " 1.0000 0.6533567431242516\n",
            " 2.0000 0.5936198402486851\n",
            " 5.0000 0.276966876643843\n",
            "10.0000 -0.007174760949336623\n",
            "\n",
            "===================\n",
            " 0.0001 0.6956450394077602\n",
            " 0.0100 0.6966518743051497\n",
            " 0.1000 0.696147386835235\n",
            " 1.0000 0.6280751345482651\n",
            " 2.0000 0.5509093320308469\n",
            " 5.0000 0.31415877442516055\n",
            "10.0000 0.07228716420885821\n"
          ]
        }
      ]
    },
    {
      "cell_type": "code",
      "source": [
        "print(\"\\n=======Ridge============\")\n",
        "for alpha in alphas:\n",
        "  model = Ridge(alpha=alpha)\n",
        "  model.fit(x_train,y_train)\n",
        "  print(f'{alpha:7.4f}',model.coef_)\n",
        "print(\"\\n========Lasso===========\")\n",
        "for alpha in alphas:\n",
        "  model = Lasso(alpha=alpha)\n",
        "  model.fit(x_train,y_train)\n",
        "  print(f'{alpha:7.4f}',model.coef_)\n",
        "print(\"\\n========ElasticNet===========\")\n",
        "for alpha in alphas:\n",
        "  model = ElasticNet(alpha=alpha)\n",
        "  model.fit(x_train,y_train)\n",
        "  print(f'{alpha:7.4f}',model.coef_)"
      ],
      "metadata": {
        "colab": {
          "base_uri": "https://localhost:8080/"
        },
        "id": "LR17uTXeG6qF",
        "outputId": "95bcf087-04d9-44cf-c2ca-8f510ce3f1c9"
      },
      "execution_count": 66,
      "outputs": [
        {
          "output_type": "stream",
          "name": "stdout",
          "text": [
            "\n",
            "=======Ridge============\n",
            " 0.0001 [ 0.42533141  0.7614968   2.32662297 -1.00312795 -2.6613384   0.31512921\n",
            " -4.03421291 -2.08416834 -2.31560605  2.98769699  1.14412868 -2.29718202\n",
            "  0.5532726 ]\n",
            " 0.0100 [ 0.42519441  0.76149044  2.32675204 -1.00300854 -2.66104949  0.31482345\n",
            " -4.03402845 -2.083804   -2.31544926  2.98662932  1.14396812 -2.29619854\n",
            "  0.55333378]\n",
            " 0.1000 [ 0.42395202  0.76143278  2.32792172 -1.00192624 -2.65842557  0.31205502\n",
            " -4.03235376 -2.08049811 -2.31402668  2.9769596   1.14251258 -2.28729571\n",
            "  0.55388782]\n",
            " 1.0000 [ 0.41182893  0.76086713  2.3392637  -0.99141613 -2.63243739  0.28544386\n",
            " -4.01581758 -2.04804839 -2.30006106  2.88372712  1.12835091 -2.20187118\n",
            "  0.55923068]\n",
            " 2.0000 [ 0.39896293  0.76025853  2.35115183 -0.98036266 -2.60409544  0.25799459\n",
            " -3.99787014 -2.01324151 -2.28507082  2.78699137  1.11340219 -2.11406389\n",
            "  0.56477565]\n",
            " 5.0000 [ 0.36368607  0.75851372  2.3828688  -0.9505843  -2.52238722  0.18682678\n",
            " -3.94641292 -1.91600209 -2.2430552   2.53316758  1.07282811 -1.88807767\n",
            "  0.57932399]\n",
            "10.0000 [ 0.31370296  0.75569867  2.42515356 -0.90969789 -2.39671271  0.095813\n",
            " -3.86721655 -1.77435729 -2.18111993  2.2009129   1.01632106 -1.60352241\n",
            "  0.59832061]\n",
            "\n",
            "========Lasso===========\n",
            " 0.0001 [ 0.42487359  0.7613999   2.32676388 -1.00283789 -2.66101691  0.31433123\n",
            " -4.03404834 -2.08336508 -2.31533248  2.98595109  1.14372745 -2.29556278\n",
            "  0.55329664]\n",
            " 0.0100 [ 0.37950746  0.7517819   2.34078541 -0.97398644 -2.62886398  0.23490188\n",
            " -4.01765917 -2.00349584 -2.28811897  2.81194957  1.10380796 -2.13410857\n",
            "  0.55574833]\n",
            " 0.1000 [ 0.          0.67128865  2.49591487 -0.69795918 -2.20014839 -0.\n",
            " -3.91379643 -1.42965524 -2.08034324  1.39385212  0.77003318 -0.94331613\n",
            "  0.55702256]\n",
            " 1.0000 [-0.          0.02998073  2.35922366 -0.         -0.         -0.\n",
            " -3.88654443 -0.         -1.3175507  -0.          0.         -0.\n",
            "  0.        ]\n",
            " 2.0000 [-0.          0.          1.85688597 -0.          0.         -0.\n",
            " -3.50324341 -0.         -0.57456336 -0.          0.         -0.\n",
            "  0.        ]\n",
            " 5.0000 [-0.          0.          0.06520279 -0.          0.         -0.\n",
            " -1.93848887 -0.         -0.         -0.          0.         -0.\n",
            "  0.        ]\n",
            "10.0000 [-0.  0.  0. -0.  0. -0. -0. -0. -0. -0.  0. -0.  0.]\n",
            "\n",
            "========ElasticNet===========\n",
            " 0.0001 [ 0.42483959  0.76143687  2.32694092 -1.00275622 -2.66062332  0.31414529\n",
            " -4.03377791 -2.0830674  -2.31516936  2.98479002  1.14362014 -2.29449806\n",
            "  0.55340124]\n",
            " 0.0100 [ 0.37800419  0.75557435  2.35657873 -0.96762695 -2.59078493  0.22273577\n",
            " -3.99168977 -1.97752878 -2.27334882  2.71537396  1.0953553  -2.04791301\n",
            "  0.56511212]\n",
            " 0.1000 [ 0.06562471  0.71008343  2.53416126 -0.73839423 -1.99502247 -0.\n",
            " -3.69816971 -1.3485937  -2.00574621  1.31826546  0.80213787 -0.9378985\n",
            "  0.60480492]\n",
            " 1.0000 [-0.          0.41007936  2.1952798  -0.34631047 -0.         -0.15221058\n",
            " -2.51320347 -0.29330549 -1.22757758 -0.          0.22062648 -0.28789929\n",
            "  0.36017279]\n",
            " 2.0000 [-0.          0.23689219  1.67317549 -0.25872136  0.         -0.25695331\n",
            " -1.9191693  -0.27098119 -0.87521624 -0.          0.16248881 -0.32480235\n",
            "  0.09078978]\n",
            " 5.0000 [-0.          0.          0.82328182 -0.01152906  0.         -0.15694136\n",
            " -1.03780187 -0.11561312 -0.3176334  -0.          0.         -0.16872064\n",
            "  0.        ]\n",
            "10.0000 [-0.          0.          0.18279443 -0.          0.         -0.\n",
            " -0.32508972 -0.         -0.         -0.          0.         -0.\n",
            "  0.        ]\n"
          ]
        }
      ]
    },
    {
      "cell_type": "code",
      "source": [],
      "metadata": {
        "id": "PbWDxoo1hbPk"
      },
      "execution_count": null,
      "outputs": []
    }
  ]
}