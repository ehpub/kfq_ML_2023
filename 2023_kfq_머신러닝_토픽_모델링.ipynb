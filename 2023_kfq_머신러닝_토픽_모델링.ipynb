{
  "nbformat": 4,
  "nbformat_minor": 0,
  "metadata": {
    "colab": {
      "provenance": [],
      "authorship_tag": "ABX9TyMbxlQTGUzuvtPTDHdo30et",
      "include_colab_link": true
    },
    "kernelspec": {
      "name": "python3",
      "display_name": "Python 3"
    },
    "language_info": {
      "name": "python"
    }
  },
  "cells": [
    {
      "cell_type": "markdown",
      "metadata": {
        "id": "view-in-github",
        "colab_type": "text"
      },
      "source": [
        "<a href=\"https://colab.research.google.com/github/ehpub/kfq_ML_2023/blob/main/2023_kfq_%EB%A8%B8%EC%8B%A0%EB%9F%AC%EB%8B%9D_%ED%86%A0%ED%94%BD_%EB%AA%A8%EB%8D%B8%EB%A7%81.ipynb\" target=\"_parent\"><img src=\"https://colab.research.google.com/assets/colab-badge.svg\" alt=\"Open In Colab\"/></a>"
      ]
    },
    {
      "cell_type": "markdown",
      "source": [
        "강의 교재 : https://wikibook.co.kr/pymlrev2/"
      ],
      "metadata": {
        "id": "MBR6vIPxKQyT"
      }
    },
    {
      "cell_type": "code",
      "execution_count": 2,
      "metadata": {
        "id": "CHNZSHMUKL2y"
      },
      "outputs": [],
      "source": [
        "from sklearn.datasets import fetch_20newsgroups\n",
        "from sklearn.feature_extraction.text import CountVectorizer\n",
        "from sklearn.decomposition import LatentDirichletAllocation"
      ]
    },
    {
      "cell_type": "code",
      "source": [
        "cats = ['rec.motorcycles','rec.sport.baseball',\n",
        "        'comp.graphics','comp.windows.x',\n",
        "        'talk.politics.mideast',\n",
        "        'soc.religion.christian',\n",
        "        'sci.electronics','sci.med']"
      ],
      "metadata": {
        "id": "vsCANEdYKXO7"
      },
      "execution_count": 9,
      "outputs": []
    },
    {
      "cell_type": "code",
      "source": [
        "news = fetch_20newsgroups(subset='all',\n",
        "                   remove=('headers','footers','quotes'),\n",
        "                  categories=cats)"
      ],
      "metadata": {
        "id": "kBwR6DxKK-M5"
      },
      "execution_count": 13,
      "outputs": []
    },
    {
      "cell_type": "code",
      "source": [
        "news.target_names"
      ],
      "metadata": {
        "colab": {
          "base_uri": "https://localhost:8080/"
        },
        "id": "0Wue4TdDp3oi",
        "outputId": "16bcedf3-5710-40d9-9ea0-ea8ae44f45f4"
      },
      "execution_count": 25,
      "outputs": [
        {
          "output_type": "execute_result",
          "data": {
            "text/plain": [
              "['comp.graphics',\n",
              " 'comp.windows.x',\n",
              " 'rec.motorcycles',\n",
              " 'rec.sport.baseball',\n",
              " 'sci.electronics',\n",
              " 'sci.med',\n",
              " 'soc.religion.christian',\n",
              " 'talk.politics.mideast']"
            ]
          },
          "metadata": {},
          "execution_count": 25
        }
      ]
    },
    {
      "cell_type": "markdown",
      "source": [],
      "metadata": {
        "id": "DevDU83toXby"
      }
    },
    {
      "cell_type": "code",
      "source": [
        "cv = CountVectorizer(max_df=0.95,\n",
        "                     max_features=1000,\n",
        "                     min_df=0.005,\n",
        "                     stop_words='english',\n",
        "                     ngram_range=(1,2)\n",
        "                     )\n",
        "cv_data = cv.fit_transform(news.data)\n",
        "cv_data.shape"
      ],
      "metadata": {
        "colab": {
          "base_uri": "https://localhost:8080/"
        },
        "id": "N11T9dgRLTZH",
        "outputId": "5d8364f3-f324-4eed-8033-07a3a6d191b3"
      },
      "execution_count": 16,
      "outputs": [
        {
          "output_type": "execute_result",
          "data": {
            "text/plain": [
              "(7862, 1000)"
            ]
          },
          "metadata": {},
          "execution_count": 16
        }
      ]
    },
    {
      "cell_type": "code",
      "source": [
        "news.data[0]"
      ],
      "metadata": {
        "colab": {
          "base_uri": "https://localhost:8080/",
          "height": 88
        },
        "id": "ZxvFgDvKOKqT",
        "outputId": "f7927d53-4df9-406e-9cff-56c835aaae89"
      },
      "execution_count": 17,
      "outputs": [
        {
          "output_type": "execute_result",
          "data": {
            "text/plain": [
              "'\\nWhat sort of traffic is generated with the X-calls?  I am curious to find\\nout the required bandwidth that a link must have  if one machine running\\nDV/X is supporting multiple users (clients) and we require adequate response\\ntime.  Anyone have any ideas ??  \\n\\n\\n'"
            ],
            "application/vnd.google.colaboratory.intrinsic+json": {
              "type": "string"
            }
          },
          "metadata": {},
          "execution_count": 17
        }
      ]
    },
    {
      "cell_type": "code",
      "source": [
        "import numpy as np\n",
        "np.unique(news.target,return_counts=True)"
      ],
      "metadata": {
        "colab": {
          "base_uri": "https://localhost:8080/"
        },
        "id": "hNY4peiToAKA",
        "outputId": "4ec9435b-c9d1-483a-9751-4c10e7ffbb64"
      },
      "execution_count": 22,
      "outputs": [
        {
          "output_type": "execute_result",
          "data": {
            "text/plain": [
              "(array([0, 1, 2, 3, 4, 5, 6, 7]),\n",
              " array([973, 988, 996, 994, 984, 990, 997, 940]))"
            ]
          },
          "metadata": {},
          "execution_count": 22
        }
      ]
    },
    {
      "cell_type": "code",
      "source": [
        "model = LatentDirichletAllocation(n_components=8)\n",
        "model.fit(cv_data)\n",
        "model.components_"
      ],
      "metadata": {
        "colab": {
          "base_uri": "https://localhost:8080/"
        },
        "id": "zEPEZLoyohRi",
        "outputId": "ac7c3554-b33d-420a-8bad-ee684b08c363"
      },
      "execution_count": 23,
      "outputs": [
        {
          "output_type": "execute_result",
          "data": {
            "text/plain": [
              "array([[4.31874306e+01, 1.25038310e-01, 8.46551142e+01, ...,\n",
              "        2.84385967e-01, 4.27573323e+01, 1.25003512e-01],\n",
              "       [3.84850795e+01, 3.10200138e+02, 2.65050604e+01, ...,\n",
              "        4.82564250e+01, 8.15063250e+01, 1.25143648e-01],\n",
              "       [3.63471407e+00, 2.19104937e+01, 1.25133248e-01, ...,\n",
              "        1.25088170e-01, 1.03654440e+02, 1.25102665e-01],\n",
              "       ...,\n",
              "       [1.25217692e-01, 1.54579315e+02, 1.25127050e-01, ...,\n",
              "        2.28530217e+02, 8.42352815e+00, 1.25093013e-01],\n",
              "       [5.81948942e+00, 7.55098066e+00, 1.25146606e-01, ...,\n",
              "        1.25027265e-01, 1.29020986e-01, 1.23925491e+00],\n",
              "       [2.50493547e+02, 6.71179705e+00, 6.91423689e+01, ...,\n",
              "        4.71952306e-01, 1.31519496e+01, 1.25016889e-01]])"
            ]
          },
          "metadata": {},
          "execution_count": 23
        }
      ]
    },
    {
      "cell_type": "code",
      "source": [
        "model.components_.shape"
      ],
      "metadata": {
        "colab": {
          "base_uri": "https://localhost:8080/"
        },
        "id": "ttTqJxC6pKaU",
        "outputId": "ad5b8f89-9177-4fc6-de62-0ee28bb51bff"
      },
      "execution_count": 24,
      "outputs": [
        {
          "output_type": "execute_result",
          "data": {
            "text/plain": [
              "(8, 1000)"
            ]
          },
          "metadata": {},
          "execution_count": 24
        }
      ]
    },
    {
      "cell_type": "code",
      "source": [
        "fns = cv.get_feature_names_out()\n",
        "no_top = 10\n",
        "for i, topic in enumerate(model.components_):\n",
        "  print(\"No.\",i )#, \":\",news.target_names[i])\n",
        "  tw_indexes = topic.argsort()[::-1] #역순정렬\n",
        "  top_indexes = tw_indexes[:no_top]\n",
        "  words = [fns[i] for i in top_indexes]\n",
        "  print(words)"
      ],
      "metadata": {
        "colab": {
          "base_uri": "https://localhost:8080/"
        },
        "id": "6U6djPxFpaIk",
        "outputId": "da1f425a-375b-4051-d500-983ed3504fd7"
      },
      "execution_count": 32,
      "outputs": [
        {
          "output_type": "stream",
          "name": "stdout",
          "text": [
            "No. 0 : comp.graphics\n",
            "['god', 'people', 'jesus', 'church', 'believe', 'does', 'christ', 'think', 'say', 'christian']\n",
            "No. 1 : comp.windows.x\n",
            "['armenian', 'armenians', 'people', 'said', 'turkish', '10', 'children', 'health', '12', 'armenia']\n",
            "No. 2 : rec.motorcycles\n",
            "['don', 'just', 'think', 'like', 'know', 'time', 'good', 'people', 'year', 'say']\n",
            "No. 3 : rec.sport.baseball\n",
            "['image', 'jpeg', 'dos', 'file', 'color', 'gif', 'windows', 'images', 'files', 'format']\n",
            "No. 4 : sci.electronics\n",
            "['edu', 'graphics', 'data', 'mail', 'information', 'available', 'software', 'com', 'send', 'computer']\n",
            "No. 5 : sci.med\n",
            "['israel', 'jews', 'jewish', 'israeli', 'arab', 'university', 'new', 'war', 'state', 'history']\n",
            "No. 6 : soc.religion.christian\n",
            "['like', 'know', 'use', 'does', 'just', 've', 'thanks', 'used', 'don', 'bike']\n",
            "No. 7 : talk.politics.mideast\n",
            "['file', 'window', 'server', 'use', 'program', 'motif', 'sun', 'widget', 'com', 'mit']\n"
          ]
        }
      ]
    },
    {
      "cell_type": "code",
      "source": [
        "b_news = fetch_20newsgroups(subset='all',\n",
        "                   remove=('headers','footers','quotes'),\n",
        "                  categories=['rec.sport.baseball'])"
      ],
      "metadata": {
        "id": "OntjBgd0qQ6o"
      },
      "execution_count": 43,
      "outputs": []
    },
    {
      "cell_type": "code",
      "source": [
        "len(b_news.data)"
      ],
      "metadata": {
        "colab": {
          "base_uri": "https://localhost:8080/"
        },
        "id": "fPIdnftkvDrv",
        "outputId": "4c90734b-58d6-433c-d727-e63bd0a92839"
      },
      "execution_count": 45,
      "outputs": [
        {
          "output_type": "execute_result",
          "data": {
            "text/plain": [
              "994"
            ]
          },
          "metadata": {},
          "execution_count": 45
        }
      ]
    },
    {
      "cell_type": "code",
      "source": [
        "bcv = CountVectorizer(max_df=0.95,\n",
        "                     max_features=1000,\n",
        "                     min_df=0.005,\n",
        "                     stop_words='english',\n",
        "                     ngram_range=(1,2)\n",
        "                     )\n",
        "bcv_data = bcv.fit_transform(b_news.data)\n",
        "bcv_data.shape"
      ],
      "metadata": {
        "colab": {
          "base_uri": "https://localhost:8080/"
        },
        "id": "G5N4NP26uLS7",
        "outputId": "c46d95c8-b0ae-404e-ab7b-9298368ca85c"
      },
      "execution_count": 47,
      "outputs": [
        {
          "output_type": "execute_result",
          "data": {
            "text/plain": [
              "(994, 1000)"
            ]
          },
          "metadata": {},
          "execution_count": 47
        }
      ]
    },
    {
      "cell_type": "code",
      "source": [
        "bmodel = LatentDirichletAllocation(n_components=8)\n",
        "bmodel.fit(bcv_data)\n",
        "bmodel.components_"
      ],
      "metadata": {
        "colab": {
          "base_uri": "https://localhost:8080/"
        },
        "id": "wr1nq10IuVB6",
        "outputId": "c37c409b-0ba2-4b08-e853-bcf3e895391c"
      },
      "execution_count": 48,
      "outputs": [
        {
          "output_type": "execute_result",
          "data": {
            "text/plain": [
              "array([[1.25041863e-01, 1.25019025e-01, 1.25022721e-01, ...,\n",
              "        2.66104173e+00, 1.25005533e-01, 5.11066671e+00],\n",
              "       [1.25042860e-01, 1.25022753e-01, 1.25005507e-01, ...,\n",
              "        7.98486628e+00, 1.25007458e-01, 1.25050083e-01],\n",
              "       [5.18312703e+01, 5.81433661e+01, 1.51659400e-01, ...,\n",
              "        2.62109363e+00, 1.25060226e-01, 1.39572539e+01],\n",
              "       ...,\n",
              "       [1.25005048e-01, 1.25145402e-01, 1.25113540e-01, ...,\n",
              "        6.68690259e+00, 9.76908102e+00, 1.59031275e-01],\n",
              "       [1.25026690e-01, 2.01060502e+01, 1.25111790e-01, ...,\n",
              "        1.45279754e+00, 1.78078105e+00, 1.25000008e-01],\n",
              "       [1.32418517e+02, 1.25206134e-01, 1.23789034e+02, ...,\n",
              "        1.25208900e-01, 1.25012908e-01, 1.25000005e-01]])"
            ]
          },
          "metadata": {},
          "execution_count": 48
        }
      ]
    },
    {
      "cell_type": "code",
      "source": [
        "fns = bcv.get_feature_names_out()"
      ],
      "metadata": {
        "id": "ak-k9uzeu4YJ"
      },
      "execution_count": 49,
      "outputs": []
    },
    {
      "cell_type": "code",
      "source": [
        "no_top = 10\n",
        "for i, topic in enumerate(bmodel.components_):\n",
        "  print(\"No.\",i )#, \":\",news.target_names[i])\n",
        "  tw_indexes = topic.argsort()[::-1] #역순정렬\n",
        "  top_indexes = tw_indexes[:no_top]\n",
        "  words = [fns[i] for i in top_indexes]\n",
        "  print(words)"
      ],
      "metadata": {
        "colab": {
          "base_uri": "https://localhost:8080/"
        },
        "id": "oytvYbTbuc_D",
        "outputId": "e7ffc94e-4a6e-486d-b879-1369046102a5"
      },
      "execution_count": 50,
      "outputs": [
        {
          "output_type": "stream",
          "name": "stdout",
          "text": [
            "No. 0\n",
            "['game', 'don', 'games', 'gant', 'time', 'baseball', 'ball', 'like', 'think', 'alomar']\n",
            "No. 1\n",
            "['game', 'just', 'baseball', 'like', 'think', 'don', 'fan', 'know', 'games', 'fans']\n",
            "No. 2\n",
            "['000', '00', 'list', 'players', 'baseball', 'league', 'time', 'team', 'uniforms', 'think']\n",
            "No. 3\n",
            "['year', 'runs', 'game', '10', 'average', 'win', 'pitching', 'run', '12', 'team']\n",
            "No. 4\n",
            "['braves', 'team', 'pitcher', 'game', 'home', 'base', 'brian', 'edu', 'does', 'runner']\n",
            "No. 5\n",
            "['year', 'good', 'think', 'players', 'don', 'better', 'just', 'clutch', 'hit', 'know']\n",
            "No. 6\n",
            "['morris', 'sox', 'games', 'team', 'red', 'clemens', 'jays', 'year', 'red sox', '333']\n",
            "No. 7\n",
            "['03', '02', '04', '00', '01', 'won', 'lost', '05', '06', 'cubs']\n"
          ]
        }
      ]
    },
    {
      "cell_type": "code",
      "source": [],
      "metadata": {
        "id": "yarw2jFsulgj"
      },
      "execution_count": null,
      "outputs": []
    }
  ]
}